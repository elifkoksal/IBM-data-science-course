{
 "cells": [
  {
   "attachments": {},
   "cell_type": "markdown",
   "metadata": {},
   "source": [
    "# Data Science Tools and Ecosystem"
   ]
  },
  {
   "attachments": {},
   "cell_type": "markdown",
   "metadata": {},
   "source": [
    "In this notebook, Data Science Tools and Ecosystem are summarized."
   ]
  },
  {
   "attachments": {},
   "cell_type": "markdown",
   "metadata": {},
   "source": [
    "Some of the popular languages that Data Scientists use are:\n",
    "1. Python\n",
    "2. R\n",
    "3. SQL\n",
    "4. Julia\n"
   ]
  },
  {
   "attachments": {},
   "cell_type": "markdown",
   "metadata": {},
   "source": [
    "Some of the commonly used libraries used by Data Scientists include:\n",
    "1. Numpy\n",
    "2. Sci-kit learn\n",
    "3. PyTorch\n",
    "4. TensorFlow"
   ]
  },
  {
   "attachments": {},
   "cell_type": "markdown",
   "metadata": {},
   "source": [
    "| Data Store   | Transform | Model deployment  | Model monitoring and assessment | Visualize | Code Asset | Data Asset |\n",
    "|--------------|-----------|-------------------|---------------------------------|------------|------------|------------|\n",
    "| mongoDB      | Spark     | predictionIO      | modelDB                         | pixiedust  | github | apache atlas\n",
    "| mySQL        | Python    | seldon            | prometheus                      | kibana  | gitlab      | egeria |\n",
    "|              | SQL       | mleap             | IBM AI Fairness                 | hue     |  bitbucket    | kylo | "
   ]
  }
 ],
 "metadata": {
  "language_info": {
   "name": "python"
  },
  "orig_nbformat": 4
 },
 "nbformat": 4,
 "nbformat_minor": 2
}
